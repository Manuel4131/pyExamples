{
 "cells": [
  {
   "cell_type": "markdown",
   "metadata": {},
   "source": [
    "Sorting"
   ]
  },
  {
   "cell_type": "code",
   "execution_count": null,
   "metadata": {},
   "outputs": [],
   "source": [
    "# Two options. \n",
    "# The first one is for in-place sorting and the other is to generate a new object"
   ]
  },
  {
   "cell_type": "code",
   "execution_count": 11,
   "metadata": {},
   "outputs": [
    {
     "name": "stdout",
     "output_type": "stream",
     "text": [
      "Sorting in ascending order is [1, 2, 3, 4, 4]\n",
      "Sorting in descending order is [4, 4, 3, 2, 1]\n",
      "Sorting in ascending order is [1, 2, 3, 4, 4]\n",
      "Sorting in descending order is [4, 4, 3, 2, 1]\n"
     ]
    }
   ],
   "source": [
    "# for list\n",
    "l = [4,3,4,2,1]\n",
    "l.sort()\n",
    "print(\"Sorting in ascending order is {}\".format(l))\n",
    "# the default behavior is ascending order\n",
    "# pass value to the argument to reverse the list\n",
    "l.sort(reverse=True)\n",
    "print(\"Sorting in descending order is {}\".format(l))\n",
    "# Notice that both of the modifications influence the list itself.\n",
    "# If you want to generate a new list, choose the built-in function sort()\n",
    "l2 = [4,3,4,2,1]\n",
    "l2s = sorted(l2)\n",
    "print(\"Sorting in ascending order is {}\".format(l2s))\n",
    "# The default sorting is descending order.\n",
    "l3 = [4,3,4,2,1]\n",
    "l3s = sorted(l3, reverse=True)\n",
    "print(\"Sorting in descending order is {}\".format(l3s))"
   ]
  },
  {
   "cell_type": "code",
   "execution_count": null,
   "metadata": {},
   "outputs": [],
   "source": []
  }
 ],
 "metadata": {
  "kernelspec": {
   "display_name": "Python 3",
   "language": "python",
   "name": "python3"
  },
  "language_info": {
   "codemirror_mode": {
    "name": "ipython",
    "version": 3
   },
   "file_extension": ".py",
   "mimetype": "text/x-python",
   "name": "python",
   "nbconvert_exporter": "python",
   "pygments_lexer": "ipython3",
   "version": "3.6.1"
  }
 },
 "nbformat": 4,
 "nbformat_minor": 2
}
